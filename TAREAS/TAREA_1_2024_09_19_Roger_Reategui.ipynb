{
  "nbformat": 4,
  "nbformat_minor": 0,
  "metadata": {
    "colab": {
      "provenance": [],
      "authorship_tag": "ABX9TyONqho/3wYWpl+pMTuBrXI2",
      "include_colab_link": true
    },
    "kernelspec": {
      "name": "python3",
      "display_name": "Python 3"
    },
    "language_info": {
      "name": "python"
    }
  },
  "cells": [
    {
      "cell_type": "markdown",
      "metadata": {
        "id": "view-in-github",
        "colab_type": "text"
      },
      "source": [
        "<a href=\"https://colab.research.google.com/github/RogerReateguiUTEC/Programacion101_RogerRS/blob/main/TAREAS/TAREA_1_2024_09_19_Roger_Reategui.ipynb\" target=\"_parent\"><img src=\"https://colab.research.google.com/assets/colab-badge.svg\" alt=\"Open In Colab\"/></a>"
      ]
    },
    {
      "cell_type": "code",
      "source": [
        "# Ejercicio 3.1: Descuento basado en la edad\n",
        "\n",
        "# Pide al usuario ingresar su edad y usa condicionales para aplicar los siguientes descuentos:\n",
        "\n",
        "# *   Si es menor de 18 años, obtiene un 50% de descuento.\n",
        "# *   Si tiene entre 18 y 65 años, obtiene un 10% de descuento.\n",
        "# *   Si es mayor de 65 años, obtiene un 30% de descuento.\n",
        "\n",
        "#----------------------------------------------------\n",
        "\n",
        "edad = int(input(\"Usuario, ingrese su edad:\"))\n",
        "precioProducto = 100\n",
        "\n",
        "if edad<18:\n",
        "  nuevoPrecio = precioProducto*0.5\n",
        "  print(f\"¡Usted ha obtenido un 50% de descuento! Precio original: 100; Nuevo Precio: {nuevoPrecio}\")\n",
        "elif edad>=18 and edad<=65:\n",
        "  nuevoPrecio = precioProducto*0.9\n",
        "  print(f\"¡Usted ha obtenido un 10% de descuento! Precio original: 100; Nuevo Precio: {nuevoPrecio}\")\n",
        "elif edad>65:\n",
        "  nuevoPrecio = precioProducto*0.7\n",
        "  print(f\"¡Usted ha obtenido un 30% de descuento! Precio original: 100; Nuevo Precio: {nuevoPrecio}\")"
      ],
      "metadata": {
        "colab": {
          "base_uri": "https://localhost:8080/"
        },
        "id": "4jAi9y3xYrVH",
        "outputId": "44ff896c-410d-4b8b-fa9f-adbe175b3e20"
      },
      "execution_count": 83,
      "outputs": [
        {
          "output_type": "stream",
          "name": "stdout",
          "text": [
            "Usuario, ingrese su edad:66\n",
            "¡Usted ha obtenido un 30% de descuento! Precio original: 100; Nuevo Precio: 70.0\n"
          ]
        }
      ]
    },
    {
      "cell_type": "code",
      "source": [
        "# Ejercicio 3.2: Estado de la temperatura\n",
        "\n",
        "# Crea un programa que pida al usuario la temperatura en su ciudad y determine:\n",
        "\n",
        "#     Si es mayor de 30 grados, imprime \"Hace mucho calor\".\n",
        "#     Si está entre 20 y 30 grados, imprime \"El clima es agradable\".\n",
        "#     Si es menor de 20 grados, imprime \"Hace frío\".\n",
        "\n",
        "#----------------------------------------------------\n",
        "\n",
        "temperatura = int(input(\"Ingrese la temperatura de su ciudad: \"))\n",
        "\n",
        "if temperatura > 30:\n",
        "    print(\"¡Hace mucho calor!\")\n",
        "elif temperatura >= 20 and temperatura<=30:\n",
        "    print(\"¡El clima es agradable!\")\n",
        "else:\n",
        "    print(\"¡Hace frío!\")"
      ],
      "metadata": {
        "id": "HDtPV_GdZjnV",
        "colab": {
          "base_uri": "https://localhost:8080/"
        },
        "outputId": "31a3771a-9eb6-4896-8737-59ffefade19c"
      },
      "execution_count": 86,
      "outputs": [
        {
          "output_type": "stream",
          "name": "stdout",
          "text": [
            "Ingrese la temperatura de su ciudad: 2\n",
            "¡Hace frío!\n"
          ]
        }
      ]
    },
    {
      "cell_type": "code",
      "source": [
        "# Ejercicio 3.3: Sistema de votación\n",
        "\n",
        "# Crea un programa que determine si una persona puede votar. Pide al usuario su nacionalidad y edad.\n",
        "\n",
        "#     Si la persona es de nacionalidad \"Peruana\" y mayor de 18 años, permite que vote.\n",
        "#     Si es menor de edad o no es de esa nacionalidad, no puede votar.\n",
        "\n",
        "#----------------------------------------------------\n",
        "\n",
        "nacionalidad = input(\"Ingrese su nacionalidad: \")\n",
        "edad = int(input(\"Ingrese su edad: \"))\n",
        "\n",
        "if \"PERU\" in nacionalidad.upper() and edad>=18:\n",
        "  print(\"Usted puede votar\")\n",
        "else:\n",
        "  print(\"Usted NO puede votar\")"
      ],
      "metadata": {
        "colab": {
          "base_uri": "https://localhost:8080/"
        },
        "id": "3t0gLOgu-KGU",
        "outputId": "45e31f65-50f8-4f8b-fc00-af936d594af5"
      },
      "execution_count": 90,
      "outputs": [
        {
          "output_type": "stream",
          "name": "stdout",
          "text": [
            "Ingrese su nacionalidad: peruano\n",
            "Ingrese su edad: 5\n",
            "Usted NO puede votar\n"
          ]
        }
      ]
    },
    {
      "cell_type": "code",
      "source": [
        "# Ejercicio 3.4: Notas de estudiantes\n",
        "\n",
        "# Escribe un programa que determine la calificación de un estudiante en función de su nota:\n",
        "\n",
        "#     Si la nota es mayor o igual a 90: \"Sobresaliente\".\n",
        "#     Si está entre 70 y 89: \"Aprobado\".\n",
        "#     Si es menor de 70: \"Desaprobado\".\n",
        "\n",
        "#----------------------------------------------------\n",
        "\n",
        "nota = int(input(\"Ingrese su nota: \"))\n",
        "\n",
        "if nota>=90:\n",
        "  print(\"Sobresaliente\")\n",
        "elif nota >= 70 and nota<90:\n",
        "  print(\"Aprobado\")\n",
        "else:\n",
        "  print(\"Desaprobado\")"
      ],
      "metadata": {
        "colab": {
          "base_uri": "https://localhost:8080/"
        },
        "id": "BXwDO5gQ_0hG",
        "outputId": "075930e6-f7e3-405e-cbbc-8edfc8517350"
      },
      "execution_count": 94,
      "outputs": [
        {
          "output_type": "stream",
          "name": "stdout",
          "text": [
            "Ingrese su nota: 69\n",
            "Desaprobado\n"
          ]
        }
      ]
    },
    {
      "cell_type": "code",
      "source": [
        "# Desafío 1: Calculadora de propinas inteligente\n",
        "\n",
        "# Crea un programa que simule una calculadora de propinas en un restaurante. El programa debe:\n",
        "\n",
        "#     Pedir al usuario que ingrese el total de la cuenta.\n",
        "#     Pedir el porcentaje de propina que le gustaría dejar (por ejemplo, 10%, 15%, 20%).\n",
        "\n",
        "# Usar condicionales para sugerir automáticamente un valor si no se ingresa un porcentaje, basándose en la experiencia:\n",
        "\n",
        "#     Si el servicio fue excelente, sugerir 20%.\n",
        "#     Si el servicio fue bueno, sugerir 15%.\n",
        "#     Si el servicio fue mediocre, sugerir 10%.\n",
        "#     Si el servicio fue malo, no sugerir propina.\n",
        "\n",
        "# Calcular e imprimir la cantidad de propina y el total a pagar (cuenta + propina).\n",
        "\n",
        "#----------------------------------------------------\n",
        "\n",
        "#Solicitar al usuario que ingrese la cuenta y clasifique el servicio\n",
        "cuenta = float(input(\"Ingrese el total de la cuenta: \"))\n",
        "servicioInput = input(\"¿Cómo consideraría nuestro servicio? Excelente, bueno, mediocre, malo: \")\n",
        "\n",
        "#Calculando sugerencia de propina según servicio\n",
        "if \"EXC\" in servicioInput.upper():\n",
        "  propinaSugerencia = 20\n",
        "  servicio = \"EXCELENTE\"\n",
        "elif \"BUEN\" in servicioInput.upper():\n",
        "  propinaSugerencia = 15\n",
        "  servicio = \"BUENO\"\n",
        "elif \"MEDI\" in servicioInput.upper():\n",
        "  propinaSugerencia = 10\n",
        "  servicio = \"MEDIOCRE\"\n",
        "elif \"MAL\" in servicioInput.upper():\n",
        "  propinaSugerencia = 0\n",
        "  servicio = \"MALO\"\n",
        "else:\n",
        "  propinaSugerencia = 0\n",
        "  servicio = \"[[INVÁLIDO]]\"\n",
        "\n",
        "#Solicitar al usuario que ingrese la propina\n",
        "mensaje = \"¿Qué % de propina le gustaría dejar? (A usted el servicio le pareció \" + str(servicio) + \", sugeriremos un \" + str(propinaSugerencia) + \"% si deja en blanco): \"\n",
        "propinaInput = input(mensaje)\n",
        "\n",
        "if propinaInput ==\"\":\n",
        "  propinaInput = propinaSugerencia\n",
        "else:\n",
        "  propinaInput = float(propinaInput)\n",
        "\n",
        "\n",
        "#Calculando el total de la cuenta e imprimiendo\n",
        "totalCuenta = cuenta * (1+propinaInput/100)\n",
        "\n",
        "print(\"\\n*******************************************\")\n",
        "print(\"Su cuenta es: \" + str(cuenta))\n",
        "print(\"Su propina es: \" + str(propinaInput) + \"%\")\n",
        "print(\"---------------------\")\n",
        "print(\"El total de su cuenta es: \" + str(round(totalCuenta,3)))\n",
        "print(\"*******************************************\")\n"
      ],
      "metadata": {
        "colab": {
          "base_uri": "https://localhost:8080/"
        },
        "id": "rNHUCSD6Ez2h",
        "outputId": "ae092e11-9422-4c0b-ecb4-b5592c0d7e86"
      },
      "execution_count": 100,
      "outputs": [
        {
          "output_type": "stream",
          "name": "stdout",
          "text": [
            "Ingrese el total de la cuenta: 100\n",
            "¿Cómo consideraría nuestro servicio? Excelente, bueno, mediocre, malo: bueno\n",
            "¿Qué % de propina le gustaría dejar? (A usted el servicio le pareció BUENO, sugeriremos un 15% si deja en blanco): \n",
            "\n",
            "*******************************************\n",
            "Su cuenta es: 100.0\n",
            "Su propina es: 15%\n",
            "---------------------\n",
            "El total de su cuenta es: 115.0\n",
            "*******************************************\n"
          ]
        }
      ]
    },
    {
      "cell_type": "code",
      "source": [
        "# Desafío 2: Clasificación de Números\n",
        "\n",
        "# Escribe un programa que clasifique un número dado por el usuario según sus características numéricas. El programa debe:\n",
        "\n",
        "# Pedir al usuario que ingrese un número entero.\n",
        "\n",
        "# Determinar si el número es:\n",
        "\n",
        "#     Par o impar.\n",
        "#     Positivo, negativo o cero.\n",
        "#     Primo o no primo (un número primo solo es divisible por 1 y por sí mismo).\n",
        "#     Imprimir una clasificación completa del número según las tres categorías anteriores.\n",
        "\n",
        "#----------------------------------------------------\n",
        "\n",
        "numero = int(input(\"Ingrese un número entero: \"))\n",
        "\n",
        "#Chequear si el número es par o impar\n",
        "if numero%2==0:\n",
        "  chequearPar = \"par\"\n",
        "else:\n",
        "  chequearPar = \"impar\"\n",
        "\n",
        "#Chequear si es positivo o negativo o cero\n",
        "if numero<0:\n",
        "   chequearNegativo = \"negativo\"\n",
        "elif numero==0:\n",
        "  chequearNegativo = \"cero\"\n",
        "else:\n",
        "  chequearNegativo = \"positivo\"\n",
        "\n",
        "#Chequear si es primo o no primo\n",
        "if numero<=1:\n",
        "  chequearPrimo = \"no primo (el número 1, 0 o los negativos no pueden ser primos)\"\n",
        "elif numero==2:\n",
        "  chequearPrimo = \"primo\"\n",
        "else:\n",
        "  chequearPrimo = \"primo\"\n",
        "  for i in range(2,numero):\n",
        "    if numero%i==0:\n",
        "      chequearPrimo = f\"no primo (es divisible entre {i})\"\n",
        "      break\n",
        "\n",
        "\n",
        "print(\"*******************************************\")\n",
        "print(f\"Su número es {chequearPar}\")\n",
        "print(f\"Su número es {chequearNegativo}\")\n",
        "print(f\"Su número es {chequearPrimo}\")\n",
        "print(\"*******************************************\")"
      ],
      "metadata": {
        "id": "n0qQNyvPa2Kd",
        "colab": {
          "base_uri": "https://localhost:8080/"
        },
        "outputId": "1707c9af-9f73-4a37-cc27-780ba26d4a47"
      },
      "execution_count": 139,
      "outputs": [
        {
          "output_type": "stream",
          "name": "stdout",
          "text": [
            "Ingrese un número entero: 20003\n",
            "*******************************************\n",
            "Su número es impar\n",
            "Su número es positivo\n",
            "Su número es no primo (es divisible entre 83)\n",
            "*******************************************\n"
          ]
        }
      ]
    }
  ]
}
