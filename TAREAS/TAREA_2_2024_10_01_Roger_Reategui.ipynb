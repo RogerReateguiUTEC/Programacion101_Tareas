{
  "nbformat": 4,
  "nbformat_minor": 0,
  "metadata": {
    "colab": {
      "provenance": [],
      "authorship_tag": "ABX9TyNbSL1j/HtAIroAb/JCvA1X",
      "include_colab_link": true
    },
    "kernelspec": {
      "name": "python3",
      "display_name": "Python 3"
    },
    "language_info": {
      "name": "python"
    }
  },
  "cells": [
    {
      "cell_type": "markdown",
      "metadata": {
        "id": "view-in-github",
        "colab_type": "text"
      },
      "source": [
        "<a href=\"https://colab.research.google.com/github/RogerReateguiUTEC/Tareas_Programacion101/blob/main/TAREAS/TAREA_2_2024_10_01_Roger_Reategui.ipynb\" target=\"_parent\"><img src=\"https://colab.research.google.com/assets/colab-badge.svg\" alt=\"Open In Colab\"/></a>"
      ]
    },
    {
      "cell_type": "markdown",
      "source": [
        "**Desafío 1: Análisis de ventas de una tienda de ropa**\n",
        "\n",
        "Eres el encargado de una tienda de ropa y tienes una lista de ventas diarias para diferentes productos. Cada día, vendes camisetas, pantalones y zapatos. Quieres analizar las ventas para entender mejor el rendimiento de cada producto.\n",
        "\n",
        "Objetivo:\n",
        "\n",
        "  * Crea tres listas: una para camisetas, otra para pantalones y una para zapatos, con la cantidad vendida cada día durante una semana.\n",
        "\n",
        "* Usa slicing para extraer las ventas de los últimos 3 días de cada producto.\n",
        "\n",
        "* Usa listas por compresión para calcular el total de ventas de cada producto y el promedio de ventas diarias.\n",
        "\n",
        "* Clasifica los productos en \"buenas ventas\" o \"malas ventas\" según si el promedio de ventas diarias es mayor o menor a 5.\n",
        "\n",
        "Instrucciones:\n",
        "\n",
        "* Genera los datos de ventas usando listas manualmente o simulándolos con valores constantes.\n",
        "* Calcula el total de ventas por producto usando sum() y el promedio con len().\n",
        "* Usa listas por comprensión para clasificar las ventas de los productos.\n"
      ],
      "metadata": {
        "id": "wWsdUW5ha7-Z"
      }
    },
    {
      "cell_type": "code",
      "source": [
        "#listas de ventas:\n",
        "ventas_camisetas = [50, 20, 100, 20, 50, 20, 60]\n",
        "ventas_pantalones = [10, 30, 50, 10, 70, 10, 20]\n",
        "ventas_zapatos = [20, 40, 10, 20, 10, 10, 40]"
      ],
      "metadata": {
        "id": "WFn0L8hQbO_S"
      },
      "execution_count": 2,
      "outputs": []
    },
    {
      "cell_type": "code",
      "source": [
        "#ventas de los últimos 3 días de cada producto:\n",
        "print(\"Ventas últimos 3 días camisetas: \" + str(ventas_camisetas[-3:]))\n",
        "print(\"Ventas últimos 3 días pantalones: \"+ str(ventas_pantalones[-3:]))\n",
        "print(\"Ventas últimos 3 días zapatos: \"+ str(ventas_zapatos[-3:]))"
      ],
      "metadata": {
        "colab": {
          "base_uri": "https://localhost:8080/"
        },
        "id": "FhN-AxyAdAD4",
        "outputId": "c323f6b6-038f-4120-926f-af0a883190af"
      },
      "execution_count": 3,
      "outputs": [
        {
          "output_type": "stream",
          "name": "stdout",
          "text": [
            "Ventas últimos 3 días camisetas: [50, 20, 60]\n",
            "Ventas últimos 3 días pantalones: [70, 10, 20]\n",
            "Ventas últimos 3 días zapatos: [10, 10, 40]\n"
          ]
        }
      ]
    },
    {
      "cell_type": "code",
      "source": [
        "#total de las ventas de cada producto:\n",
        "total_ventas_camisetas = sum(ventas_camisetas)\n",
        "total_ventas_pantalones = sum(ventas_pantalones)\n",
        "total_ventas_zapatos = sum(ventas_zapatos)\n",
        "\n",
        "#promedio de ventas diarias:\n",
        "promedio_ventas_camisetas = total_ventas_camisetas/len(ventas_camisetas)\n",
        "promedio_ventas_pantalones = total_ventas_pantalones/len(ventas_pantalones)\n",
        "promedio_ventas_zapatos = total_ventas_zapatos/len(ventas_zapatos)\n",
        "\n",
        "print(f\"Venta Total camisetas: {total_ventas_camisetas} | Venta promedio camisetas: {promedio_ventas_camisetas}\")\n",
        "print(f\"Venta Total pantalones: {total_ventas_pantalones} | Venta promedio pantalones: {promedio_ventas_pantalones}\")\n",
        "print(f\"Venta Total zapatos: {total_ventas_zapatos} | Venta promedio zapatos: {promedio_ventas_zapatos}\")"
      ],
      "metadata": {
        "colab": {
          "base_uri": "https://localhost:8080/"
        },
        "id": "dEnwWG1tdddD",
        "outputId": "7a5a05ce-489d-43c6-a0bb-fe7133eda2fc"
      },
      "execution_count": 7,
      "outputs": [
        {
          "output_type": "stream",
          "name": "stdout",
          "text": [
            "Venta Total camisetas: 320 | Venta promedio camisetas: 45.714285714285715\n",
            "Venta Total pantalones: 200 | Venta promedio pantalones: 28.571428571428573\n",
            "Venta Total zapatos: 150 | Venta promedio zapatos: 21.428571428571427\n"
          ]
        }
      ]
    },
    {
      "cell_type": "code",
      "source": [],
      "metadata": {
        "id": "blIWjUX4iXl5"
      },
      "execution_count": null,
      "outputs": []
    },
    {
      "cell_type": "code",
      "source": [],
      "metadata": {
        "colab": {
          "base_uri": "https://localhost:8080/"
        },
        "id": "g-cr0jtZdssX",
        "outputId": "1db0e651-9e8a-4663-9c28-8317014d96d3"
      },
      "execution_count": null,
      "outputs": [
        {
          "output_type": "stream",
          "name": "stdout",
          "text": [
            "Ventas últimos 3 días camisetas: [50, 20, 100]\n"
          ]
        }
      ]
    },
    {
      "cell_type": "code",
      "source": [],
      "metadata": {
        "id": "KCSgP3hneCjX"
      },
      "execution_count": null,
      "outputs": []
    }
  ]
}