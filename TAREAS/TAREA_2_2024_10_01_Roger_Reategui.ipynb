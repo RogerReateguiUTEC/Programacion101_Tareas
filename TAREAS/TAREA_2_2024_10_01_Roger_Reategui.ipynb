{
  "nbformat": 4,
  "nbformat_minor": 0,
  "metadata": {
    "colab": {
      "provenance": [],
      "authorship_tag": "ABX9TyMJFLOMfde/D3B5vLERIFUF",
      "include_colab_link": true
    },
    "kernelspec": {
      "name": "python3",
      "display_name": "Python 3"
    },
    "language_info": {
      "name": "python"
    }
  },
  "cells": [
    {
      "cell_type": "markdown",
      "metadata": {
        "id": "view-in-github",
        "colab_type": "text"
      },
      "source": [
        "<a href=\"https://colab.research.google.com/github/RogerReateguiUTEC/Tareas_Programacion101/blob/main/TAREA_2_2024_10_01_Roger_Reategui.ipynb\" target=\"_parent\"><img src=\"https://colab.research.google.com/assets/colab-badge.svg\" alt=\"Open In Colab\"/></a>"
      ]
    },
    {
      "cell_type": "markdown",
      "source": [
        "**Desafío 1: Análisis de ventas de una tienda de ropa**\n",
        "\n",
        "Eres el encargado de una tienda de ropa y tienes una lista de ventas diarias para diferentes productos. Cada día, vendes camisetas, pantalones y zapatos. Quieres analizar las ventas para entender mejor el rendimiento de cada producto.\n",
        "\n",
        "Objetivo:\n",
        "\n",
        "  * Crea tres listas: una para camisetas, otra para pantalones y una para zapatos, con la cantidad vendida cada día durante una semana.\n",
        "\n",
        "* Usa slicing para extraer las ventas de los últimos 3 días de cada producto.\n",
        "\n",
        "* Usa listas por compresión para calcular el total de ventas de cada producto y el promedio de ventas diarias.\n",
        "\n",
        "* Clasifica los productos en \"buenas ventas\" o \"malas ventas\" según si el promedio de ventas diarias es mayor o menor a 5.\n",
        "\n",
        "Instrucciones:\n",
        "\n",
        "* Genera los datos de ventas usando listas manualmente o simulándolos con valores constantes.\n",
        "* Calcula el total de ventas por producto usando sum() y el promedio con len().\n",
        "* Usa listas por comprensión para clasificar las ventas de los productos.\n"
      ],
      "metadata": {
        "id": "wWsdUW5ha7-Z"
      }
    },
    {
      "cell_type": "code",
      "source": [
        "#listas de ventas:\n",
        "ventas_camisetas = [50, 20, 100, 20, 50, 20, 60]\n",
        "ventas_pantalones = [10, 30, 50, 10, 70, 10, 20]\n",
        "ventas_zapatos = [20, 40, 10, 20, 10, 10, 40]"
      ],
      "metadata": {
        "id": "WFn0L8hQbO_S"
      },
      "execution_count": 1,
      "outputs": []
    },
    {
      "cell_type": "code",
      "source": [
        "#ventas de los últimos 3 días de cada producto:\n",
        "print(\"Ventas últimos 3 días camisetas: \" + str(ventas_camisetas[-3:]))\n",
        "print(\"Ventas últimos 3 días pantalones: \"+ str(ventas_pantalones[-3:]))\n",
        "print(\"Ventas últimos 3 días zapatos: \"+ str(ventas_zapatos[-3:]))"
      ],
      "metadata": {
        "colab": {
          "base_uri": "https://localhost:8080/"
        },
        "id": "FhN-AxyAdAD4",
        "outputId": "7df38f62-d6be-4115-a4c4-588e29f59eb4"
      },
      "execution_count": 3,
      "outputs": [
        {
          "output_type": "stream",
          "name": "stdout",
          "text": [
            "Ventas últimos 3 días camisetas: [50, 20, 60]\n",
            "Ventas últimos 3 días pantalones: [70, 10, 20]\n",
            "Ventas últimos 3 días zapatos: [10, 10, 40]\n"
          ]
        }
      ]
    },
    {
      "cell_type": "code",
      "source": [
        "#total de las ventas de cada producto:\n",
        "total_ventas_camisetas = sum(ventas_camisetas)\n",
        "total_ventas_camisetas = sum(ventas_pantalones)\n",
        "total_ventas_zapatos = sum(ventas_zapatos)\n",
        "\n",
        "#promedio de ventas diarias:\n",
        "promedio_ventas_camisetas = sum(ventas_camisetas)/len()\n",
        "promedio_ventas_camisetas = sum(ventas_pantalones)/\n",
        "promedio_ventas_zapatos = sum(ventas_zapatos)/"
      ],
      "metadata": {
        "colab": {
          "base_uri": "https://localhost:8080/"
        },
        "id": "dEnwWG1tdddD",
        "outputId": "d3dfc09f-92de-4f9b-a2dd-93cee4fb4c96"
      },
      "execution_count": 10,
      "outputs": [
        {
          "output_type": "execute_result",
          "data": {
            "text/plain": [
              "320"
            ]
          },
          "metadata": {},
          "execution_count": 10
        }
      ]
    },
    {
      "cell_type": "code",
      "source": [],
      "metadata": {
        "colab": {
          "base_uri": "https://localhost:8080/"
        },
        "id": "g-cr0jtZdssX",
        "outputId": "1db0e651-9e8a-4663-9c28-8317014d96d3"
      },
      "execution_count": 8,
      "outputs": [
        {
          "output_type": "stream",
          "name": "stdout",
          "text": [
            "Ventas últimos 3 días camisetas: [50, 20, 100]\n"
          ]
        }
      ]
    },
    {
      "cell_type": "code",
      "source": [],
      "metadata": {
        "id": "KCSgP3hneCjX"
      },
      "execution_count": null,
      "outputs": []
    }
  ]
}
